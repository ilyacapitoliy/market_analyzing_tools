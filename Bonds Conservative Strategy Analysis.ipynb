{
 "cells": [
  {
   "cell_type": "markdown",
   "id": "295486c1-7b7d-49bd-9fc0-f469612f971c",
   "metadata": {},
   "source": [
    "### Evaluate conservative investment strategies in bond markets using quantitative analysis and historical bond data."
   ]
  },
  {
   "cell_type": "markdown",
   "id": "d741da9f-e37f-4394-bb5f-f6b2794419e5",
   "metadata": {
    "jp-MarkdownHeadingCollapsed": true,
    "jupyter": {
     "source_hidden": true
    }
   },
   "source": [
    "###### \n",
    "1. **Introduction**\r\n",
    "    - Overview of the project\r\n",
    "    - Importance of conservative investment strategies in bond markets\n",
    "2. **Data Collection**\r\n",
    "    - Identify and list free APIs and websites for retrieving historical bond data\r\n",
    "    - Utilize GitHub parsers to extract relevant bond data\r\n",
    "    - Create scripts to automate data retrieval process\r\n",
    "3. **Data Preprocessing**\r\n",
    "    - Data cleaning: Handle missing values, outliers, and inconsistencies\r\n",
    "    - Data transformation: Convert data into a suitable format for analysis\r\n",
    "    - Feature engineering: Create additional features if needed\r\n",
    "4. **Quantitative Analysis**\r\n",
    "    - Statistical analysis: Explore descriptive statistics of bond data\r\n",
    "    - Time series analysis: Analyze trends, seasonality, and volatility\r\n",
    "    - Correlation analysis: Examine relationships between different bond variables\r\n",
    "    - Risk assessment: Calculate risk metrics such as volatility, beta, and Sharpe ratio\r\n",
    "    - Performance evaluation: Assess the performance of conservative investment strategies using historical bond data\r\n",
    "5. **Visualization**\r\n",
    "    - Generate visualizations to illustrate key findings from the analysis\r\n",
    "    - Plot time series charts, histograms, scatter plots, and heatmaps\r\n",
    "    - Use interactive plots for better exploration of data\r\n",
    "6. **Conclusion**\r\n",
    "    - Summarize the findings and insights gained from the analysis\r\n",
    "    - Discuss the effectiveness of conservative investment strategies in bond markets\r\n",
    "    - Provide recommendations for further research or investment decisions"
   ]
  },
  {
   "cell_type": "markdown",
   "id": "0b75a623-6639-4402-bf0d-362b86b949d7",
   "metadata": {
    "jp-MarkdownHeadingCollapsed": true
   },
   "source": [
    "#### **Data Collection**\n",
    "    - Identify and list free APIs and websites for retrieving historical bond data\n",
    "    - Utilize GitHub parsers to extract relevant bond data\n",
    "    - Create scripts to automate data retrieval process"
   ]
  },
  {
   "cell_type": "markdown",
   "id": "0f64d25e-c7b6-4d8e-957f-45cf92d7610c",
   "metadata": {},
   "source": [
    "### Requirements"
   ]
  },
  {
   "cell_type": "code",
   "execution_count": 1,
   "id": "e853c793-2dd5-49c1-adca-7f42e5a32cd5",
   "metadata": {
    "collapsed": true,
    "jupyter": {
     "outputs_hidden": true
    }
   },
   "outputs": [
    {
     "name": "stdout",
     "output_type": "stream",
     "text": [
      "Requirement already satisfied: fredapi in c:\\users\\ilyac\\appdata\\local\\programs\\python\\python312\\lib\\site-packages (0.5.1)\n",
      "Requirement already satisfied: pandas in c:\\users\\ilyac\\appdata\\local\\programs\\python\\python312\\lib\\site-packages (from fredapi) (2.1.4)\n",
      "Requirement already satisfied: numpy<2,>=1.26.0 in c:\\users\\ilyac\\appdata\\local\\programs\\python\\python312\\lib\\site-packages (from pandas->fredapi) (1.26.3)\n",
      "Requirement already satisfied: python-dateutil>=2.8.2 in c:\\users\\ilyac\\appdata\\local\\programs\\python\\python312\\lib\\site-packages (from pandas->fredapi) (2.8.2)\n",
      "Requirement already satisfied: pytz>=2020.1 in c:\\users\\ilyac\\appdata\\local\\programs\\python\\python312\\lib\\site-packages (from pandas->fredapi) (2023.3.post1)\n",
      "Requirement already satisfied: tzdata>=2022.1 in c:\\users\\ilyac\\appdata\\local\\programs\\python\\python312\\lib\\site-packages (from pandas->fredapi) (2023.4)\n",
      "Requirement already satisfied: six>=1.5 in c:\\users\\ilyac\\appdata\\local\\programs\\python\\python312\\lib\\site-packages (from python-dateutil>=2.8.2->pandas->fredapi) (1.16.0)\n",
      "Requirement already satisfied: Nasdaq-Data-Link in c:\\users\\ilyac\\appdata\\local\\programs\\python\\python312\\lib\\site-packages (1.0.4)\n",
      "Requirement already satisfied: pandas>=0.14 in c:\\users\\ilyac\\appdata\\local\\programs\\python\\python312\\lib\\site-packages (from Nasdaq-Data-Link) (2.1.4)\n",
      "Requirement already satisfied: numpy>=1.8 in c:\\users\\ilyac\\appdata\\local\\programs\\python\\python312\\lib\\site-packages (from Nasdaq-Data-Link) (1.26.3)\n",
      "Requirement already satisfied: requests>=2.7.0 in c:\\users\\ilyac\\appdata\\local\\programs\\python\\python312\\lib\\site-packages (from Nasdaq-Data-Link) (2.31.0)\n",
      "Requirement already satisfied: inflection>=0.3.1 in c:\\users\\ilyac\\appdata\\local\\programs\\python\\python312\\lib\\site-packages (from Nasdaq-Data-Link) (0.5.1)\n",
      "Requirement already satisfied: python-dateutil in c:\\users\\ilyac\\appdata\\local\\programs\\python\\python312\\lib\\site-packages (from Nasdaq-Data-Link) (2.8.2)\n",
      "Requirement already satisfied: six in c:\\users\\ilyac\\appdata\\local\\programs\\python\\python312\\lib\\site-packages (from Nasdaq-Data-Link) (1.16.0)\n",
      "Requirement already satisfied: more-itertools in c:\\users\\ilyac\\appdata\\local\\programs\\python\\python312\\lib\\site-packages (from Nasdaq-Data-Link) (10.2.0)\n",
      "Requirement already satisfied: pytz>=2020.1 in c:\\users\\ilyac\\appdata\\local\\programs\\python\\python312\\lib\\site-packages (from pandas>=0.14->Nasdaq-Data-Link) (2023.3.post1)\n",
      "Requirement already satisfied: tzdata>=2022.1 in c:\\users\\ilyac\\appdata\\local\\programs\\python\\python312\\lib\\site-packages (from pandas>=0.14->Nasdaq-Data-Link) (2023.4)\n",
      "Requirement already satisfied: charset-normalizer<4,>=2 in c:\\users\\ilyac\\appdata\\local\\programs\\python\\python312\\lib\\site-packages (from requests>=2.7.0->Nasdaq-Data-Link) (3.3.2)\n",
      "Requirement already satisfied: idna<4,>=2.5 in c:\\users\\ilyac\\appdata\\local\\programs\\python\\python312\\lib\\site-packages (from requests>=2.7.0->Nasdaq-Data-Link) (3.6)\n",
      "Requirement already satisfied: urllib3<3,>=1.21.1 in c:\\users\\ilyac\\appdata\\local\\programs\\python\\python312\\lib\\site-packages (from requests>=2.7.0->Nasdaq-Data-Link) (2.1.0)\n",
      "Requirement already satisfied: certifi>=2017.4.17 in c:\\users\\ilyac\\appdata\\local\\programs\\python\\python312\\lib\\site-packages (from requests>=2.7.0->Nasdaq-Data-Link) (2023.11.17)\n",
      "Requirement already satisfied: quandl in c:\\users\\ilyac\\appdata\\local\\programs\\python\\python312\\lib\\site-packages (3.7.0)\n",
      "Requirement already satisfied: pandas>=0.14 in c:\\users\\ilyac\\appdata\\local\\programs\\python\\python312\\lib\\site-packages (from quandl) (2.1.4)\n",
      "Requirement already satisfied: numpy>=1.8 in c:\\users\\ilyac\\appdata\\local\\programs\\python\\python312\\lib\\site-packages (from quandl) (1.26.3)\n",
      "Requirement already satisfied: requests>=2.7.0 in c:\\users\\ilyac\\appdata\\local\\programs\\python\\python312\\lib\\site-packages (from quandl) (2.31.0)\n",
      "Requirement already satisfied: inflection>=0.3.1 in c:\\users\\ilyac\\appdata\\local\\programs\\python\\python312\\lib\\site-packages (from quandl) (0.5.1)\n",
      "Requirement already satisfied: python-dateutil in c:\\users\\ilyac\\appdata\\local\\programs\\python\\python312\\lib\\site-packages (from quandl) (2.8.2)\n",
      "Requirement already satisfied: six in c:\\users\\ilyac\\appdata\\local\\programs\\python\\python312\\lib\\site-packages (from quandl) (1.16.0)\n",
      "Requirement already satisfied: more-itertools in c:\\users\\ilyac\\appdata\\local\\programs\\python\\python312\\lib\\site-packages (from quandl) (10.2.0)\n",
      "Requirement already satisfied: pytz>=2020.1 in c:\\users\\ilyac\\appdata\\local\\programs\\python\\python312\\lib\\site-packages (from pandas>=0.14->quandl) (2023.3.post1)\n",
      "Requirement already satisfied: tzdata>=2022.1 in c:\\users\\ilyac\\appdata\\local\\programs\\python\\python312\\lib\\site-packages (from pandas>=0.14->quandl) (2023.4)\n",
      "Requirement already satisfied: charset-normalizer<4,>=2 in c:\\users\\ilyac\\appdata\\local\\programs\\python\\python312\\lib\\site-packages (from requests>=2.7.0->quandl) (3.3.2)\n",
      "Requirement already satisfied: idna<4,>=2.5 in c:\\users\\ilyac\\appdata\\local\\programs\\python\\python312\\lib\\site-packages (from requests>=2.7.0->quandl) (3.6)\n",
      "Requirement already satisfied: urllib3<3,>=1.21.1 in c:\\users\\ilyac\\appdata\\local\\programs\\python\\python312\\lib\\site-packages (from requests>=2.7.0->quandl) (2.1.0)\n",
      "Requirement already satisfied: certifi>=2017.4.17 in c:\\users\\ilyac\\appdata\\local\\programs\\python\\python312\\lib\\site-packages (from requests>=2.7.0->quandl) (2023.11.17)\n"
     ]
    }
   ],
   "source": [
    "!pip install fredapi\n",
    "!pip install Nasdaq-Data-Link\n",
    "!pip install quandl"
   ]
  },
  {
   "cell_type": "markdown",
   "id": "1e16c105-5484-416d-9108-ae48fc6e1b04",
   "metadata": {},
   "source": [
    "##### Yahoo Finance API"
   ]
  },
  {
   "cell_type": "code",
   "execution_count": 1,
   "id": "11ee47e3-e3b6-43fc-9561-fe74e04455a0",
   "metadata": {
    "scrolled": true
   },
   "outputs": [
    {
     "name": "stderr",
     "output_type": "stream",
     "text": [
      "[*********************100%%**********************]  1 of 1 completed\n"
     ]
    },
    {
     "data": {
      "text/html": [
       "<div>\n",
       "<style scoped>\n",
       "    .dataframe tbody tr th:only-of-type {\n",
       "        vertical-align: middle;\n",
       "    }\n",
       "\n",
       "    .dataframe tbody tr th {\n",
       "        vertical-align: top;\n",
       "    }\n",
       "\n",
       "    .dataframe thead th {\n",
       "        text-align: right;\n",
       "    }\n",
       "</style>\n",
       "<table border=\"1\" class=\"dataframe\">\n",
       "  <thead>\n",
       "    <tr style=\"text-align: right;\">\n",
       "      <th></th>\n",
       "      <th>Open</th>\n",
       "      <th>High</th>\n",
       "      <th>Low</th>\n",
       "      <th>Close</th>\n",
       "      <th>Adj Close</th>\n",
       "      <th>Volume</th>\n",
       "    </tr>\n",
       "  </thead>\n",
       "  <tbody>\n",
       "    <tr>\n",
       "      <th>count</th>\n",
       "      <td>5429.000000</td>\n",
       "      <td>5429.000000</td>\n",
       "      <td>5429.000000</td>\n",
       "      <td>5429.000000</td>\n",
       "      <td>5429.000000</td>\n",
       "      <td>5.429000e+03</td>\n",
       "    </tr>\n",
       "    <tr>\n",
       "      <th>mean</th>\n",
       "      <td>110.419282</td>\n",
       "      <td>110.926102</td>\n",
       "      <td>109.922393</td>\n",
       "      <td>110.431672</td>\n",
       "      <td>85.394885</td>\n",
       "      <td>8.470027e+06</td>\n",
       "    </tr>\n",
       "    <tr>\n",
       "      <th>std</th>\n",
       "      <td>21.031932</td>\n",
       "      <td>21.146011</td>\n",
       "      <td>20.912292</td>\n",
       "      <td>21.019714</td>\n",
       "      <td>29.738376</td>\n",
       "      <td>9.443662e+06</td>\n",
       "    </tr>\n",
       "    <tr>\n",
       "      <th>min</th>\n",
       "      <td>80.889999</td>\n",
       "      <td>80.919998</td>\n",
       "      <td>80.510002</td>\n",
       "      <td>80.650002</td>\n",
       "      <td>39.599438</td>\n",
       "      <td>6.100000e+03</td>\n",
       "    </tr>\n",
       "    <tr>\n",
       "      <th>25%</th>\n",
       "      <td>91.309998</td>\n",
       "      <td>91.650002</td>\n",
       "      <td>90.910004</td>\n",
       "      <td>91.349998</td>\n",
       "      <td>57.646599</td>\n",
       "      <td>1.983600e+06</td>\n",
       "    </tr>\n",
       "    <tr>\n",
       "      <th>50%</th>\n",
       "      <td>107.110001</td>\n",
       "      <td>107.779999</td>\n",
       "      <td>106.519997</td>\n",
       "      <td>107.110001</td>\n",
       "      <td>88.090630</td>\n",
       "      <td>6.421000e+06</td>\n",
       "    </tr>\n",
       "    <tr>\n",
       "      <th>75%</th>\n",
       "      <td>123.500000</td>\n",
       "      <td>123.989998</td>\n",
       "      <td>123.029999</td>\n",
       "      <td>123.550003</td>\n",
       "      <td>105.679375</td>\n",
       "      <td>1.091410e+07</td>\n",
       "    </tr>\n",
       "    <tr>\n",
       "      <th>max</th>\n",
       "      <td>179.100006</td>\n",
       "      <td>179.699997</td>\n",
       "      <td>170.779999</td>\n",
       "      <td>171.570007</td>\n",
       "      <td>157.687042</td>\n",
       "      <td>8.897510e+07</td>\n",
       "    </tr>\n",
       "  </tbody>\n",
       "</table>\n",
       "</div>"
      ],
      "text/plain": [
       "              Open         High          Low        Close    Adj Close  \\\n",
       "count  5429.000000  5429.000000  5429.000000  5429.000000  5429.000000   \n",
       "mean    110.419282   110.926102   109.922393   110.431672    85.394885   \n",
       "std      21.031932    21.146011    20.912292    21.019714    29.738376   \n",
       "min      80.889999    80.919998    80.510002    80.650002    39.599438   \n",
       "25%      91.309998    91.650002    90.910004    91.349998    57.646599   \n",
       "50%     107.110001   107.779999   106.519997   107.110001    88.090630   \n",
       "75%     123.500000   123.989998   123.029999   123.550003   105.679375   \n",
       "max     179.100006   179.699997   170.779999   171.570007   157.687042   \n",
       "\n",
       "             Volume  \n",
       "count  5.429000e+03  \n",
       "mean   8.470027e+06  \n",
       "std    9.443662e+06  \n",
       "min    6.100000e+03  \n",
       "25%    1.983600e+06  \n",
       "50%    6.421000e+06  \n",
       "75%    1.091410e+07  \n",
       "max    8.897510e+07  "
      ]
     },
     "execution_count": 1,
     "metadata": {},
     "output_type": "execute_result"
    }
   ],
   "source": [
    "import yfinance as yf # Yahoo Finance API\n",
    "import pandas as pd\n",
    "\n",
    "# Make Pandas DataFrame for future collected data\n",
    "bond_data_yahoo = pd.DataFrame()\n",
    "\n",
    "def get_bond_data_yahoo(symbol, start_date, end_date):\n",
    "    bond_data = yf.download(symbol, start=start_date, end=end_date)\n",
    "    return bond_data\n",
    "\n",
    "# Bond Symbol Name\n",
    "bond_symbol_yahoo = 'TLT'  # Example bond symbol (iShares 20+ Year Treasury Bond ETF)\n",
    "\n",
    "# Filter by date\n",
    "start_date_yahoo = '1000-01-01'\n",
    "end_date_yahoo = '2024-02-23'\n",
    "\n",
    "bond_data_yahoo = get_bond_data_yahoo(bond_symbol_yahoo, start_date_yahoo, end_date_yahoo)\n",
    "bond_data_yahoo.describe()"
   ]
  },
  {
   "cell_type": "markdown",
   "id": "b5dc57c9-fe53-4562-b812-b592013b64b5",
   "metadata": {},
   "source": [
    "##### **FRED®API** stands for **Federal Reserve Economic Data**"
   ]
  },
  {
   "cell_type": "code",
   "execution_count": 3,
   "id": "a89ee434-c8b8-4a10-bb53-9ceafff81cfe",
   "metadata": {},
   "outputs": [],
   "source": [
    "from fredapi import Fred # Federal Reserve Economic Data API\n",
    "\n",
    "# Set FRED API key\n",
    "fred = Fred(api_key='0ec86a3e7603532c504b827a0363dcf3')\n",
    "def get_bond_data_fred(series_id, start_date, end_date):\n",
    "    bond_data = fred.get_series(series_id, start_date=start_date, end_date=end_date)\n",
    "    return bond_data"
   ]
  },
  {
   "cell_type": "code",
   "execution_count": 4,
   "id": "5a698546-c317-4781-b783-7d28aedb5171",
   "metadata": {},
   "outputs": [
    {
     "data": {
      "text/plain": [
       "1962-01-02    4.06\n",
       "1962-01-03    4.03\n",
       "1962-01-04    3.99\n",
       "1962-01-05    4.02\n",
       "1962-01-08    4.03\n",
       "dtype: float64"
      ]
     },
     "execution_count": 4,
     "metadata": {},
     "output_type": "execute_result"
    }
   ],
   "source": [
    "# Example usage\n",
    "series_id_fred = \"DGS10\"  # Example series ID for 10-Year Treasury Constant Maturity Rate\n",
    "start_date_fred = '2000-01-01'\n",
    "end_date_fred = '2024-01-23'\n",
    "\n",
    "bond_data_fred = pd.DataFrame()\n",
    "bond_data_fred = get_bond_data_fred(series_id_fred, start_date_fred, end_date_fred)\n",
    "\n",
    "bond_data_fred.head()"
   ]
  },
  {
   "cell_type": "markdown",
   "id": "9f2bd0b4-d410-4b21-9a4b-02ac7aa1e7f1",
   "metadata": {},
   "source": [
    "#### Nasqaq Data Link / Quandl"
   ]
  },
  {
   "cell_type": "code",
   "execution_count": 8,
   "id": "f647f62b-4b74-434b-bb62-616fe0c0d73c",
   "metadata": {
    "collapsed": true,
    "jupyter": {
     "outputs_hidden": true
    },
    "scrolled": true
   },
   "outputs": [
    {
     "data": {
      "text/html": [
       "<div>\n",
       "<style scoped>\n",
       "    .dataframe tbody tr th:only-of-type {\n",
       "        vertical-align: middle;\n",
       "    }\n",
       "\n",
       "    .dataframe tbody tr th {\n",
       "        vertical-align: top;\n",
       "    }\n",
       "\n",
       "    .dataframe thead th {\n",
       "        text-align: right;\n",
       "    }\n",
       "</style>\n",
       "<table border=\"1\" class=\"dataframe\">\n",
       "  <thead>\n",
       "    <tr style=\"text-align: right;\">\n",
       "      <th></th>\n",
       "      <th>Open</th>\n",
       "      <th>High</th>\n",
       "      <th>Low</th>\n",
       "      <th>Last</th>\n",
       "      <th>Close</th>\n",
       "      <th>Total Trade Quantity</th>\n",
       "      <th>Turnover (Lacs)</th>\n",
       "    </tr>\n",
       "  </thead>\n",
       "  <tbody>\n",
       "    <tr>\n",
       "      <th>count</th>\n",
       "      <td>4.000000</td>\n",
       "      <td>4.000000</td>\n",
       "      <td>4.000000</td>\n",
       "      <td>4.000000</td>\n",
       "      <td>4.000000</td>\n",
       "      <td>4.000000</td>\n",
       "      <td>4.000000</td>\n",
       "    </tr>\n",
       "    <tr>\n",
       "      <th>mean</th>\n",
       "      <td>-0.178380</td>\n",
       "      <td>-0.179919</td>\n",
       "      <td>-0.181475</td>\n",
       "      <td>-0.182322</td>\n",
       "      <td>-0.182012</td>\n",
       "      <td>0.445741</td>\n",
       "      <td>0.191822</td>\n",
       "    </tr>\n",
       "    <tr>\n",
       "      <th>std</th>\n",
       "      <td>0.297433</td>\n",
       "      <td>0.298415</td>\n",
       "      <td>0.293564</td>\n",
       "      <td>0.296626</td>\n",
       "      <td>0.297008</td>\n",
       "      <td>0.932792</td>\n",
       "      <td>1.069331</td>\n",
       "    </tr>\n",
       "    <tr>\n",
       "      <th>min</th>\n",
       "      <td>-0.605856</td>\n",
       "      <td>-0.608333</td>\n",
       "      <td>-0.602409</td>\n",
       "      <td>-0.608403</td>\n",
       "      <td>-0.608143</td>\n",
       "      <td>-0.566639</td>\n",
       "      <td>-0.564680</td>\n",
       "    </tr>\n",
       "    <tr>\n",
       "      <th>25%</th>\n",
       "      <td>-0.266607</td>\n",
       "      <td>-0.269172</td>\n",
       "      <td>-0.272608</td>\n",
       "      <td>-0.269122</td>\n",
       "      <td>-0.270286</td>\n",
       "      <td>-0.046464</td>\n",
       "      <td>-0.427519</td>\n",
       "    </tr>\n",
       "    <tr>\n",
       "      <th>50%</th>\n",
       "      <td>-0.076452</td>\n",
       "      <td>-0.079075</td>\n",
       "      <td>-0.075812</td>\n",
       "      <td>-0.084262</td>\n",
       "      <td>-0.084158</td>\n",
       "      <td>0.345795</td>\n",
       "      <td>-0.215841</td>\n",
       "    </tr>\n",
       "    <tr>\n",
       "      <th>75%</th>\n",
       "      <td>0.011774</td>\n",
       "      <td>0.010178</td>\n",
       "      <td>0.015321</td>\n",
       "      <td>0.002539</td>\n",
       "      <td>0.004117</td>\n",
       "      <td>0.838000</td>\n",
       "      <td>0.403499</td>\n",
       "    </tr>\n",
       "    <tr>\n",
       "      <th>max</th>\n",
       "      <td>0.045239</td>\n",
       "      <td>0.046809</td>\n",
       "      <td>0.028132</td>\n",
       "      <td>0.047639</td>\n",
       "      <td>0.048411</td>\n",
       "      <td>1.658014</td>\n",
       "      <td>1.763651</td>\n",
       "    </tr>\n",
       "  </tbody>\n",
       "</table>\n",
       "</div>"
      ],
      "text/plain": [
       "           Open      High       Low      Last     Close  Total Trade Quantity  \\\n",
       "count  4.000000  4.000000  4.000000  4.000000  4.000000              4.000000   \n",
       "mean  -0.178380 -0.179919 -0.181475 -0.182322 -0.182012              0.445741   \n",
       "std    0.297433  0.298415  0.293564  0.296626  0.297008              0.932792   \n",
       "min   -0.605856 -0.608333 -0.602409 -0.608403 -0.608143             -0.566639   \n",
       "25%   -0.266607 -0.269172 -0.272608 -0.269122 -0.270286             -0.046464   \n",
       "50%   -0.076452 -0.079075 -0.075812 -0.084262 -0.084158              0.345795   \n",
       "75%    0.011774  0.010178  0.015321  0.002539  0.004117              0.838000   \n",
       "max    0.045239  0.046809  0.028132  0.047639  0.048411              1.658014   \n",
       "\n",
       "       Turnover (Lacs)  \n",
       "count         4.000000  \n",
       "mean          0.191822  \n",
       "std           1.069331  \n",
       "min          -0.564680  \n",
       "25%          -0.427519  \n",
       "50%          -0.215841  \n",
       "75%           0.403499  \n",
       "max           1.763651  "
      ]
     },
     "execution_count": 8,
     "metadata": {},
     "output_type": "execute_result"
    }
   ],
   "source": [
    "import nasdaqdatalink # Nasqaq Data Link\n",
    "\n",
    "oil_df = pd.DataFrame()\n",
    "oil_df = nasdaqdatalink.get('NSE/OIL', start_date='2010-01-01', end_date='2014-01-01',\n",
    "                  collapse='annual', transformation='rdiff',\n",
    "                  rows=4)\n",
    "oil_df.describe()"
   ]
  },
  {
   "cell_type": "code",
   "execution_count": 9,
   "id": "2f52d344-5cd0-47a9-8316-28491f3c81f9",
   "metadata": {
    "collapsed": true,
    "jupyter": {
     "outputs_hidden": true
    }
   },
   "outputs": [
    {
     "data": {
      "text/html": [
       "<div>\n",
       "<style scoped>\n",
       "    .dataframe tbody tr th:only-of-type {\n",
       "        vertical-align: middle;\n",
       "    }\n",
       "\n",
       "    .dataframe tbody tr th {\n",
       "        vertical-align: top;\n",
       "    }\n",
       "\n",
       "    .dataframe thead th {\n",
       "        text-align: right;\n",
       "    }\n",
       "</style>\n",
       "<table border=\"1\" class=\"dataframe\">\n",
       "  <thead>\n",
       "    <tr style=\"text-align: right;\">\n",
       "      <th></th>\n",
       "      <th>1 MO</th>\n",
       "      <th>2 MO</th>\n",
       "      <th>3 MO</th>\n",
       "      <th>6 MO</th>\n",
       "      <th>1 YR</th>\n",
       "      <th>2 YR</th>\n",
       "      <th>3 YR</th>\n",
       "      <th>5 YR</th>\n",
       "      <th>7 YR</th>\n",
       "      <th>10 YR</th>\n",
       "      <th>20 YR</th>\n",
       "      <th>30 YR</th>\n",
       "    </tr>\n",
       "  </thead>\n",
       "  <tbody>\n",
       "    <tr>\n",
       "      <th>count</th>\n",
       "      <td>5612.000000</td>\n",
       "      <td>1306.000000</td>\n",
       "      <td>8508.000000</td>\n",
       "      <td>8511.000000</td>\n",
       "      <td>8511.000000</td>\n",
       "      <td>8511.000000</td>\n",
       "      <td>8511.000000</td>\n",
       "      <td>8511.000000</td>\n",
       "      <td>8511.000000</td>\n",
       "      <td>8511.000000</td>\n",
       "      <td>7572.000000</td>\n",
       "      <td>7517.000000</td>\n",
       "    </tr>\n",
       "    <tr>\n",
       "      <th>mean</th>\n",
       "      <td>1.389560</td>\n",
       "      <td>1.956723</td>\n",
       "      <td>2.681422</td>\n",
       "      <td>2.811490</td>\n",
       "      <td>2.927964</td>\n",
       "      <td>3.193115</td>\n",
       "      <td>3.387011</td>\n",
       "      <td>3.745318</td>\n",
       "      <td>4.031666</td>\n",
       "      <td>4.250584</td>\n",
       "      <td>4.358286</td>\n",
       "      <td>4.743714</td>\n",
       "    </tr>\n",
       "    <tr>\n",
       "      <th>std</th>\n",
       "      <td>1.645777</td>\n",
       "      <td>1.957723</td>\n",
       "      <td>2.294966</td>\n",
       "      <td>2.325218</td>\n",
       "      <td>2.316573</td>\n",
       "      <td>2.322940</td>\n",
       "      <td>2.271931</td>\n",
       "      <td>2.167639</td>\n",
       "      <td>2.087977</td>\n",
       "      <td>1.995082</td>\n",
       "      <td>1.681681</td>\n",
       "      <td>1.941456</td>\n",
       "    </tr>\n",
       "    <tr>\n",
       "      <th>min</th>\n",
       "      <td>0.000000</td>\n",
       "      <td>0.000000</td>\n",
       "      <td>0.000000</td>\n",
       "      <td>0.000000</td>\n",
       "      <td>0.000000</td>\n",
       "      <td>0.000000</td>\n",
       "      <td>0.000000</td>\n",
       "      <td>0.000000</td>\n",
       "      <td>0.000000</td>\n",
       "      <td>0.000000</td>\n",
       "      <td>0.000000</td>\n",
       "      <td>0.000000</td>\n",
       "    </tr>\n",
       "    <tr>\n",
       "      <th>25%</th>\n",
       "      <td>0.060000</td>\n",
       "      <td>0.090000</td>\n",
       "      <td>0.180000</td>\n",
       "      <td>0.320000</td>\n",
       "      <td>0.490000</td>\n",
       "      <td>0.880000</td>\n",
       "      <td>1.270000</td>\n",
       "      <td>1.745000</td>\n",
       "      <td>2.170000</td>\n",
       "      <td>2.530000</td>\n",
       "      <td>2.820000</td>\n",
       "      <td>3.040000</td>\n",
       "    </tr>\n",
       "    <tr>\n",
       "      <th>50%</th>\n",
       "      <td>0.870000</td>\n",
       "      <td>1.590000</td>\n",
       "      <td>2.260000</td>\n",
       "      <td>2.420000</td>\n",
       "      <td>2.540000</td>\n",
       "      <td>2.910000</td>\n",
       "      <td>3.180000</td>\n",
       "      <td>3.580000</td>\n",
       "      <td>3.850000</td>\n",
       "      <td>4.120000</td>\n",
       "      <td>4.470000</td>\n",
       "      <td>4.530000</td>\n",
       "    </tr>\n",
       "    <tr>\n",
       "      <th>75%</th>\n",
       "      <td>2.110000</td>\n",
       "      <td>2.995000</td>\n",
       "      <td>4.980000</td>\n",
       "      <td>5.090000</td>\n",
       "      <td>5.060000</td>\n",
       "      <td>5.090000</td>\n",
       "      <td>5.230000</td>\n",
       "      <td>5.520000</td>\n",
       "      <td>5.720000</td>\n",
       "      <td>5.810000</td>\n",
       "      <td>5.640000</td>\n",
       "      <td>6.250000</td>\n",
       "    </tr>\n",
       "    <tr>\n",
       "      <th>max</th>\n",
       "      <td>6.020000</td>\n",
       "      <td>5.610000</td>\n",
       "      <td>8.260000</td>\n",
       "      <td>8.490000</td>\n",
       "      <td>8.640000</td>\n",
       "      <td>9.050000</td>\n",
       "      <td>9.110000</td>\n",
       "      <td>9.100000</td>\n",
       "      <td>9.120000</td>\n",
       "      <td>9.090000</td>\n",
       "      <td>8.300000</td>\n",
       "      <td>9.180000</td>\n",
       "    </tr>\n",
       "  </tbody>\n",
       "</table>\n",
       "</div>"
      ],
      "text/plain": [
       "              1 MO         2 MO         3 MO         6 MO         1 YR  \\\n",
       "count  5612.000000  1306.000000  8508.000000  8511.000000  8511.000000   \n",
       "mean      1.389560     1.956723     2.681422     2.811490     2.927964   \n",
       "std       1.645777     1.957723     2.294966     2.325218     2.316573   \n",
       "min       0.000000     0.000000     0.000000     0.000000     0.000000   \n",
       "25%       0.060000     0.090000     0.180000     0.320000     0.490000   \n",
       "50%       0.870000     1.590000     2.260000     2.420000     2.540000   \n",
       "75%       2.110000     2.995000     4.980000     5.090000     5.060000   \n",
       "max       6.020000     5.610000     8.260000     8.490000     8.640000   \n",
       "\n",
       "              2 YR         3 YR         5 YR         7 YR        10 YR  \\\n",
       "count  8511.000000  8511.000000  8511.000000  8511.000000  8511.000000   \n",
       "mean      3.193115     3.387011     3.745318     4.031666     4.250584   \n",
       "std       2.322940     2.271931     2.167639     2.087977     1.995082   \n",
       "min       0.000000     0.000000     0.000000     0.000000     0.000000   \n",
       "25%       0.880000     1.270000     1.745000     2.170000     2.530000   \n",
       "50%       2.910000     3.180000     3.580000     3.850000     4.120000   \n",
       "75%       5.090000     5.230000     5.520000     5.720000     5.810000   \n",
       "max       9.050000     9.110000     9.100000     9.120000     9.090000   \n",
       "\n",
       "             20 YR        30 YR  \n",
       "count  7572.000000  7517.000000  \n",
       "mean      4.358286     4.743714  \n",
       "std       1.681681     1.941456  \n",
       "min       0.000000     0.000000  \n",
       "25%       2.820000     3.040000  \n",
       "50%       4.470000     4.530000  \n",
       "75%       5.640000     6.250000  \n",
       "max       8.300000     9.180000  "
      ]
     },
     "execution_count": 9,
     "metadata": {},
     "output_type": "execute_result"
    }
   ],
   "source": [
    "# Quand API\n",
    "import quandl\n",
    "\n",
    "# Set Quandl API key\n",
    "quandl.ApiConfig.api_key = \"CfUgCZqFRxDCEXKZgzbX\"\n",
    "\n",
    "def get_bond_data_quandl(dataset_code, start_date, end_date):\n",
    "    bond_data = quandl.get(dataset_code, start_date=start_date, end_date=end_date)\n",
    "    return bond_data\n",
    "\n",
    "# Example usage\n",
    "dataset_code_quandl = \"USTREASURY/YIELD\"  # Example dataset code for US Treasury Yield Curve\n",
    "start_date_quandl = '1000-01-01'\n",
    "end_date_quandl = '2024-02-23'\n",
    "\n",
    "bond_data_quandl = get_bond_data_quandl(dataset_code_quandl, start_date_quandl, end_date_quandl)\n",
    "bond_data_quandl.describe()"
   ]
  },
  {
   "cell_type": "markdown",
   "id": "cd5fce58-75a1-4c10-b418-9baa03f37b2d",
   "metadata": {},
   "source": [
    "### Investing.com"
   ]
  },
  {
   "cell_type": "code",
   "execution_count": 10,
   "id": "9ed51a6e-c4ec-49f6-93f1-a9d57c83e00a",
   "metadata": {
    "collapsed": true,
    "jupyter": {
     "outputs_hidden": true,
     "source_hidden": true
    },
    "scrolled": true
   },
   "outputs": [
    {
     "name": "stderr",
     "output_type": "stream",
     "text": [
      "C:\\Users\\ilyac\\AppData\\Local\\Temp\\ipykernel_10036\\929240901.py:10: FutureWarning: Passing literal html to 'read_html' is deprecated and will be removed in a future version. To read from a literal string, wrap it in a 'StringIO' object.\n",
      "  bond_data_investing = pd.read_html(str(table_investing))[0]\n"
     ]
    },
    {
     "ename": "ValueError",
     "evalue": "No tables found",
     "output_type": "error",
     "traceback": [
      "\u001b[1;31m---------------------------------------------------------------------------\u001b[0m",
      "\u001b[1;31mValueError\u001b[0m                                Traceback (most recent call last)",
      "Cell \u001b[1;32mIn[10], line 10\u001b[0m\n\u001b[0;32m      7\u001b[0m soup_investing \u001b[38;5;241m=\u001b[39m BeautifulSoup(page_investing\u001b[38;5;241m.\u001b[39mcontent, \u001b[38;5;124m'\u001b[39m\u001b[38;5;124mhtml.parser\u001b[39m\u001b[38;5;124m'\u001b[39m)\n\u001b[0;32m      9\u001b[0m table_investing \u001b[38;5;241m=\u001b[39m soup_investing\u001b[38;5;241m.\u001b[39mfind(\u001b[38;5;124m'\u001b[39m\u001b[38;5;124mtable\u001b[39m\u001b[38;5;124m'\u001b[39m, \u001b[38;5;28mid\u001b[39m\u001b[38;5;241m=\u001b[39m\u001b[38;5;124m'\u001b[39m\u001b[38;5;124mcurr_table\u001b[39m\u001b[38;5;124m'\u001b[39m)\n\u001b[1;32m---> 10\u001b[0m bond_data_investing \u001b[38;5;241m=\u001b[39m \u001b[43mpd\u001b[49m\u001b[38;5;241;43m.\u001b[39;49m\u001b[43mread_html\u001b[49m\u001b[43m(\u001b[49m\u001b[38;5;28;43mstr\u001b[39;49m\u001b[43m(\u001b[49m\u001b[43mtable_investing\u001b[49m\u001b[43m)\u001b[49m\u001b[43m)\u001b[49m[\u001b[38;5;241m0\u001b[39m]\n",
      "File \u001b[1;32m~\\AppData\\Local\\Programs\\Python\\Python312\\Lib\\site-packages\\pandas\\io\\html.py:1245\u001b[0m, in \u001b[0;36mread_html\u001b[1;34m(io, match, flavor, header, index_col, skiprows, attrs, parse_dates, thousands, encoding, decimal, converters, na_values, keep_default_na, displayed_only, extract_links, dtype_backend, storage_options)\u001b[0m\n\u001b[0;32m   1229\u001b[0m \u001b[38;5;28;01mif\u001b[39;00m \u001b[38;5;28misinstance\u001b[39m(io, \u001b[38;5;28mstr\u001b[39m) \u001b[38;5;129;01mand\u001b[39;00m \u001b[38;5;129;01mnot\u001b[39;00m \u001b[38;5;28many\u001b[39m(\n\u001b[0;32m   1230\u001b[0m     [\n\u001b[0;32m   1231\u001b[0m         is_file_like(io),\n\u001b[1;32m   (...)\u001b[0m\n\u001b[0;32m   1235\u001b[0m     ]\n\u001b[0;32m   1236\u001b[0m ):\n\u001b[0;32m   1237\u001b[0m     warnings\u001b[38;5;241m.\u001b[39mwarn(\n\u001b[0;32m   1238\u001b[0m         \u001b[38;5;124m\"\u001b[39m\u001b[38;5;124mPassing literal html to \u001b[39m\u001b[38;5;124m'\u001b[39m\u001b[38;5;124mread_html\u001b[39m\u001b[38;5;124m'\u001b[39m\u001b[38;5;124m is deprecated and \u001b[39m\u001b[38;5;124m\"\u001b[39m\n\u001b[0;32m   1239\u001b[0m         \u001b[38;5;124m\"\u001b[39m\u001b[38;5;124mwill be removed in a future version. To read from a \u001b[39m\u001b[38;5;124m\"\u001b[39m\n\u001b[1;32m   (...)\u001b[0m\n\u001b[0;32m   1242\u001b[0m         stacklevel\u001b[38;5;241m=\u001b[39mfind_stack_level(),\n\u001b[0;32m   1243\u001b[0m     )\n\u001b[1;32m-> 1245\u001b[0m \u001b[38;5;28;01mreturn\u001b[39;00m \u001b[43m_parse\u001b[49m\u001b[43m(\u001b[49m\n\u001b[0;32m   1246\u001b[0m \u001b[43m    \u001b[49m\u001b[43mflavor\u001b[49m\u001b[38;5;241;43m=\u001b[39;49m\u001b[43mflavor\u001b[49m\u001b[43m,\u001b[49m\n\u001b[0;32m   1247\u001b[0m \u001b[43m    \u001b[49m\u001b[43mio\u001b[49m\u001b[38;5;241;43m=\u001b[39;49m\u001b[43mio\u001b[49m\u001b[43m,\u001b[49m\n\u001b[0;32m   1248\u001b[0m \u001b[43m    \u001b[49m\u001b[43mmatch\u001b[49m\u001b[38;5;241;43m=\u001b[39;49m\u001b[43mmatch\u001b[49m\u001b[43m,\u001b[49m\n\u001b[0;32m   1249\u001b[0m \u001b[43m    \u001b[49m\u001b[43mheader\u001b[49m\u001b[38;5;241;43m=\u001b[39;49m\u001b[43mheader\u001b[49m\u001b[43m,\u001b[49m\n\u001b[0;32m   1250\u001b[0m \u001b[43m    \u001b[49m\u001b[43mindex_col\u001b[49m\u001b[38;5;241;43m=\u001b[39;49m\u001b[43mindex_col\u001b[49m\u001b[43m,\u001b[49m\n\u001b[0;32m   1251\u001b[0m \u001b[43m    \u001b[49m\u001b[43mskiprows\u001b[49m\u001b[38;5;241;43m=\u001b[39;49m\u001b[43mskiprows\u001b[49m\u001b[43m,\u001b[49m\n\u001b[0;32m   1252\u001b[0m \u001b[43m    \u001b[49m\u001b[43mparse_dates\u001b[49m\u001b[38;5;241;43m=\u001b[39;49m\u001b[43mparse_dates\u001b[49m\u001b[43m,\u001b[49m\n\u001b[0;32m   1253\u001b[0m \u001b[43m    \u001b[49m\u001b[43mthousands\u001b[49m\u001b[38;5;241;43m=\u001b[39;49m\u001b[43mthousands\u001b[49m\u001b[43m,\u001b[49m\n\u001b[0;32m   1254\u001b[0m \u001b[43m    \u001b[49m\u001b[43mattrs\u001b[49m\u001b[38;5;241;43m=\u001b[39;49m\u001b[43mattrs\u001b[49m\u001b[43m,\u001b[49m\n\u001b[0;32m   1255\u001b[0m \u001b[43m    \u001b[49m\u001b[43mencoding\u001b[49m\u001b[38;5;241;43m=\u001b[39;49m\u001b[43mencoding\u001b[49m\u001b[43m,\u001b[49m\n\u001b[0;32m   1256\u001b[0m \u001b[43m    \u001b[49m\u001b[43mdecimal\u001b[49m\u001b[38;5;241;43m=\u001b[39;49m\u001b[43mdecimal\u001b[49m\u001b[43m,\u001b[49m\n\u001b[0;32m   1257\u001b[0m \u001b[43m    \u001b[49m\u001b[43mconverters\u001b[49m\u001b[38;5;241;43m=\u001b[39;49m\u001b[43mconverters\u001b[49m\u001b[43m,\u001b[49m\n\u001b[0;32m   1258\u001b[0m \u001b[43m    \u001b[49m\u001b[43mna_values\u001b[49m\u001b[38;5;241;43m=\u001b[39;49m\u001b[43mna_values\u001b[49m\u001b[43m,\u001b[49m\n\u001b[0;32m   1259\u001b[0m \u001b[43m    \u001b[49m\u001b[43mkeep_default_na\u001b[49m\u001b[38;5;241;43m=\u001b[39;49m\u001b[43mkeep_default_na\u001b[49m\u001b[43m,\u001b[49m\n\u001b[0;32m   1260\u001b[0m \u001b[43m    \u001b[49m\u001b[43mdisplayed_only\u001b[49m\u001b[38;5;241;43m=\u001b[39;49m\u001b[43mdisplayed_only\u001b[49m\u001b[43m,\u001b[49m\n\u001b[0;32m   1261\u001b[0m \u001b[43m    \u001b[49m\u001b[43mextract_links\u001b[49m\u001b[38;5;241;43m=\u001b[39;49m\u001b[43mextract_links\u001b[49m\u001b[43m,\u001b[49m\n\u001b[0;32m   1262\u001b[0m \u001b[43m    \u001b[49m\u001b[43mdtype_backend\u001b[49m\u001b[38;5;241;43m=\u001b[39;49m\u001b[43mdtype_backend\u001b[49m\u001b[43m,\u001b[49m\n\u001b[0;32m   1263\u001b[0m \u001b[43m    \u001b[49m\u001b[43mstorage_options\u001b[49m\u001b[38;5;241;43m=\u001b[39;49m\u001b[43mstorage_options\u001b[49m\u001b[43m,\u001b[49m\n\u001b[0;32m   1264\u001b[0m \u001b[43m\u001b[49m\u001b[43m)\u001b[49m\n",
      "File \u001b[1;32m~\\AppData\\Local\\Programs\\Python\\Python312\\Lib\\site-packages\\pandas\\io\\html.py:1008\u001b[0m, in \u001b[0;36m_parse\u001b[1;34m(flavor, io, match, attrs, encoding, displayed_only, extract_links, storage_options, **kwargs)\u001b[0m\n\u001b[0;32m   1006\u001b[0m \u001b[38;5;28;01melse\u001b[39;00m:\n\u001b[0;32m   1007\u001b[0m     \u001b[38;5;28;01massert\u001b[39;00m retained \u001b[38;5;129;01mis\u001b[39;00m \u001b[38;5;129;01mnot\u001b[39;00m \u001b[38;5;28;01mNone\u001b[39;00m  \u001b[38;5;66;03m# for mypy\u001b[39;00m\n\u001b[1;32m-> 1008\u001b[0m     \u001b[38;5;28;01mraise\u001b[39;00m retained\n\u001b[0;32m   1010\u001b[0m ret \u001b[38;5;241m=\u001b[39m []\n\u001b[0;32m   1011\u001b[0m \u001b[38;5;28;01mfor\u001b[39;00m table \u001b[38;5;129;01min\u001b[39;00m tables:\n",
      "File \u001b[1;32m~\\AppData\\Local\\Programs\\Python\\Python312\\Lib\\site-packages\\pandas\\io\\html.py:988\u001b[0m, in \u001b[0;36m_parse\u001b[1;34m(flavor, io, match, attrs, encoding, displayed_only, extract_links, storage_options, **kwargs)\u001b[0m\n\u001b[0;32m    977\u001b[0m p \u001b[38;5;241m=\u001b[39m parser(\n\u001b[0;32m    978\u001b[0m     io,\n\u001b[0;32m    979\u001b[0m     compiled_match,\n\u001b[1;32m   (...)\u001b[0m\n\u001b[0;32m    984\u001b[0m     storage_options,\n\u001b[0;32m    985\u001b[0m )\n\u001b[0;32m    987\u001b[0m \u001b[38;5;28;01mtry\u001b[39;00m:\n\u001b[1;32m--> 988\u001b[0m     tables \u001b[38;5;241m=\u001b[39m \u001b[43mp\u001b[49m\u001b[38;5;241;43m.\u001b[39;49m\u001b[43mparse_tables\u001b[49m\u001b[43m(\u001b[49m\u001b[43m)\u001b[49m\n\u001b[0;32m    989\u001b[0m \u001b[38;5;28;01mexcept\u001b[39;00m \u001b[38;5;167;01mValueError\u001b[39;00m \u001b[38;5;28;01mas\u001b[39;00m caught:\n\u001b[0;32m    990\u001b[0m     \u001b[38;5;66;03m# if `io` is an io-like object, check if it's seekable\u001b[39;00m\n\u001b[0;32m    991\u001b[0m     \u001b[38;5;66;03m# and try to rewind it before trying the next parser\u001b[39;00m\n\u001b[0;32m    992\u001b[0m     \u001b[38;5;28;01mif\u001b[39;00m \u001b[38;5;28mhasattr\u001b[39m(io, \u001b[38;5;124m\"\u001b[39m\u001b[38;5;124mseekable\u001b[39m\u001b[38;5;124m\"\u001b[39m) \u001b[38;5;129;01mand\u001b[39;00m io\u001b[38;5;241m.\u001b[39mseekable():\n",
      "File \u001b[1;32m~\\AppData\\Local\\Programs\\Python\\Python312\\Lib\\site-packages\\pandas\\io\\html.py:248\u001b[0m, in \u001b[0;36m_HtmlFrameParser.parse_tables\u001b[1;34m(self)\u001b[0m\n\u001b[0;32m    240\u001b[0m \u001b[38;5;28;01mdef\u001b[39;00m \u001b[38;5;21mparse_tables\u001b[39m(\u001b[38;5;28mself\u001b[39m):\n\u001b[0;32m    241\u001b[0m \u001b[38;5;250m    \u001b[39m\u001b[38;5;124;03m\"\"\"\u001b[39;00m\n\u001b[0;32m    242\u001b[0m \u001b[38;5;124;03m    Parse and return all tables from the DOM.\u001b[39;00m\n\u001b[0;32m    243\u001b[0m \n\u001b[1;32m   (...)\u001b[0m\n\u001b[0;32m    246\u001b[0m \u001b[38;5;124;03m    list of parsed (header, body, footer) tuples from tables.\u001b[39;00m\n\u001b[0;32m    247\u001b[0m \u001b[38;5;124;03m    \"\"\"\u001b[39;00m\n\u001b[1;32m--> 248\u001b[0m     tables \u001b[38;5;241m=\u001b[39m \u001b[38;5;28;43mself\u001b[39;49m\u001b[38;5;241;43m.\u001b[39;49m\u001b[43m_parse_tables\u001b[49m\u001b[43m(\u001b[49m\u001b[38;5;28;43mself\u001b[39;49m\u001b[38;5;241;43m.\u001b[39;49m\u001b[43m_build_doc\u001b[49m\u001b[43m(\u001b[49m\u001b[43m)\u001b[49m\u001b[43m,\u001b[49m\u001b[43m \u001b[49m\u001b[38;5;28;43mself\u001b[39;49m\u001b[38;5;241;43m.\u001b[39;49m\u001b[43mmatch\u001b[49m\u001b[43m,\u001b[49m\u001b[43m \u001b[49m\u001b[38;5;28;43mself\u001b[39;49m\u001b[38;5;241;43m.\u001b[39;49m\u001b[43mattrs\u001b[49m\u001b[43m)\u001b[49m\n\u001b[0;32m    249\u001b[0m     \u001b[38;5;28;01mreturn\u001b[39;00m (\u001b[38;5;28mself\u001b[39m\u001b[38;5;241m.\u001b[39m_parse_thead_tbody_tfoot(table) \u001b[38;5;28;01mfor\u001b[39;00m table \u001b[38;5;129;01min\u001b[39;00m tables)\n",
      "File \u001b[1;32m~\\AppData\\Local\\Programs\\Python\\Python312\\Lib\\site-packages\\pandas\\io\\html.py:603\u001b[0m, in \u001b[0;36m_BeautifulSoupHtml5LibFrameParser._parse_tables\u001b[1;34m(self, document, match, attrs)\u001b[0m\n\u001b[0;32m    601\u001b[0m tables \u001b[38;5;241m=\u001b[39m document\u001b[38;5;241m.\u001b[39mfind_all(element_name, attrs\u001b[38;5;241m=\u001b[39mattrs)\n\u001b[0;32m    602\u001b[0m \u001b[38;5;28;01mif\u001b[39;00m \u001b[38;5;129;01mnot\u001b[39;00m tables:\n\u001b[1;32m--> 603\u001b[0m     \u001b[38;5;28;01mraise\u001b[39;00m \u001b[38;5;167;01mValueError\u001b[39;00m(\u001b[38;5;124m\"\u001b[39m\u001b[38;5;124mNo tables found\u001b[39m\u001b[38;5;124m\"\u001b[39m)\n\u001b[0;32m    605\u001b[0m result \u001b[38;5;241m=\u001b[39m []\n\u001b[0;32m    606\u001b[0m unique_tables \u001b[38;5;241m=\u001b[39m \u001b[38;5;28mset\u001b[39m()\n",
      "\u001b[1;31mValueError\u001b[0m: No tables found"
     ]
    }
   ],
   "source": [
    "import requests\n",
    "from bs4 import BeautifulSoup\n",
    "\n",
    "url_investing = 'https://www.investing.com/rates-bonds/u.s.-10-year-bond-yield-historical-data'\n",
    "headers = {'User-Agent': 'Mozilla/5.0 (Windows NT 10.0; Win64; x64) AppleWebKit/537.36 (KHTML, like Gecko) Chrome/58.0.3029.110 Safari/537.3'}\n",
    "page_investing = requests.get(url_investing, headers=headers)\n",
    "soup_investing = BeautifulSoup(page_investing.content, 'html.parser')\n",
    "\n",
    "table_investing = soup_investing.find('table', id='curr_table')\n",
    "bond_data_investing = pd.read_html(str(table_investing))[0]\n"
   ]
  },
  {
   "cell_type": "markdown",
   "id": "96efadcd-fe93-4887-b138-679050850261",
   "metadata": {},
   "source": [
    "##### **Data Preprocessing**\n",
    "    - Data cleaning: Handle missing values, outliers, and inconsistencies\n",
    "    - Data transformation: Convert data into a suitable format for analysis\n",
    "    - Feature engineering: Create additional features if needed"
   ]
  },
  {
   "cell_type": "markdown",
   "id": "bc63881c-f252-4ef2-9231-178936b8a18e",
   "metadata": {},
   "source": [
    "##### Handling Missing Values"
   ]
  },
  {
   "cell_type": "code",
   "execution_count": 5,
   "id": "8eb73819-95a8-4709-aa66-deb63b30d1b0",
   "metadata": {},
   "outputs": [
    {
     "name": "stdout",
     "output_type": "stream",
     "text": [
      "The number of rows before: 16233\n",
      "Missing values: 692\n",
      "The number of rows after: 16233\n"
     ]
    }
   ],
   "source": [
    "#Check the shape of the set\n",
    "print(f\"The number of rows before: {bond_data_fred.shape[0]}\")\n",
    "\n",
    "# Check for missing values\n",
    "print(f\"Missing values: {bond_data_fred.isnull().sum()}\")\n",
    "\n",
    "# Drop rows with missing values\n",
    "bond_data_fred_cleaned = bond_data_fred.dropna()\n",
    "\n",
    "# Impute missing values (for numerical data)\n",
    "# Example using mean imputation\n",
    "mean_values = bond_data_fred.mean()\n",
    "bond_data_imputed = bond_data_fred.fillna(mean_values)\n",
    "\n",
    "#Check the shape of the set\n",
    "print(f\"The number of rows after: {bond_data_imputed.shape[0]}\")"
   ]
  },
  {
   "cell_type": "code",
   "execution_count": 6,
   "id": "c8e8ea04-4464-4382-b43f-8ae0307e7eda",
   "metadata": {},
   "outputs": [
    {
     "name": "stdout",
     "output_type": "stream",
     "text": [
      "Missing values: 0\n"
     ]
    },
    {
     "data": {
      "text/plain": [
       "1962-01-02    4.06\n",
       "1962-01-03    4.03\n",
       "1962-01-04    3.99\n",
       "1962-01-05    4.02\n",
       "1962-01-08    4.03\n",
       "              ... \n",
       "2024-03-15    4.31\n",
       "2024-03-18    4.34\n",
       "2024-03-19    4.30\n",
       "2024-03-20    4.27\n",
       "2024-03-21    4.27\n",
       "Length: 16233, dtype: float64"
      ]
     },
     "execution_count": 6,
     "metadata": {},
     "output_type": "execute_result"
    }
   ],
   "source": [
    "# Check for missing values\n",
    "print(f\"Missing values: {bond_data_imputed.isnull().sum()}\")\n",
    "bond_data_imputed"
   ]
  },
  {
   "cell_type": "markdown",
   "id": "eca3406f-6544-4029-8c7f-6e9a6ab0ebf9",
   "metadata": {},
   "source": [
    "##### Handling Outliers"
   ]
  },
  {
   "cell_type": "code",
   "execution_count": 7,
   "id": "e1d8629b-9e80-4834-a704-0842b07c7c2d",
   "metadata": {},
   "outputs": [
    {
     "ename": "TypeError",
     "evalue": "unhashable type: 'Series'",
     "output_type": "error",
     "traceback": [
      "\u001b[1;31m---------------------------------------------------------------------------\u001b[0m",
      "\u001b[1;31mTypeError\u001b[0m                                 Traceback (most recent call last)",
      "\u001b[1;32m~\\AppData\\Local\\Temp\\ipykernel_12304\\471181016.py\u001b[0m in \u001b[0;36m?\u001b[1;34m()\u001b[0m\n\u001b[0;32m      6\u001b[0m \u001b[0mthreshold\u001b[0m \u001b[1;33m=\u001b[0m \u001b[1;36m3\u001b[0m\u001b[1;33m\u001b[0m\u001b[1;33m\u001b[0m\u001b[0m\n\u001b[0;32m      7\u001b[0m \u001b[0moutliers\u001b[0m \u001b[1;33m=\u001b[0m \u001b[0mnp\u001b[0m\u001b[1;33m.\u001b[0m\u001b[0mwhere\u001b[0m\u001b[1;33m(\u001b[0m\u001b[0mz_scores\u001b[0m \u001b[1;33m>\u001b[0m \u001b[0mthreshold\u001b[0m\u001b[1;33m)\u001b[0m\u001b[1;33m\u001b[0m\u001b[1;33m\u001b[0m\u001b[0m\n\u001b[0;32m      8\u001b[0m \u001b[1;33m\u001b[0m\u001b[0m\n\u001b[0;32m      9\u001b[0m \u001b[1;31m# Remove outliers\u001b[0m\u001b[1;33m\u001b[0m\u001b[1;33m\u001b[0m\u001b[0m\n\u001b[1;32m---> 10\u001b[1;33m \u001b[0mbond_data_cleaned\u001b[0m \u001b[1;33m=\u001b[0m \u001b[0mbond_data_imputed\u001b[0m\u001b[1;33m[\u001b[0m\u001b[1;33m(\u001b[0m\u001b[0mz_scores\u001b[0m \u001b[1;33m<\u001b[0m \u001b[0mthreshold\u001b[0m\u001b[1;33m)\u001b[0m\u001b[1;33m.\u001b[0m\u001b[0mall\u001b[0m\u001b[1;33m]\u001b[0m\u001b[1;33m\u001b[0m\u001b[1;33m\u001b[0m\u001b[0m\n\u001b[0m\u001b[0;32m     11\u001b[0m \u001b[0mbond_data_cleaned\u001b[0m\u001b[1;33m\u001b[0m\u001b[1;33m\u001b[0m\u001b[0m\n",
      "\u001b[1;32m~\\AppData\\Local\\Programs\\Python\\Python312\\Lib\\site-packages\\pandas\\core\\series.py\u001b[0m in \u001b[0;36m?\u001b[1;34m(self, key)\u001b[0m\n\u001b[0;32m   1016\u001b[0m     \u001b[1;32mdef\u001b[0m \u001b[0m__getitem__\u001b[0m\u001b[1;33m(\u001b[0m\u001b[0mself\u001b[0m\u001b[1;33m,\u001b[0m \u001b[0mkey\u001b[0m\u001b[1;33m)\u001b[0m\u001b[1;33m:\u001b[0m\u001b[1;33m\u001b[0m\u001b[1;33m\u001b[0m\u001b[0m\n\u001b[0;32m   1017\u001b[0m         \u001b[0mcheck_dict_or_set_indexers\u001b[0m\u001b[1;33m(\u001b[0m\u001b[0mkey\u001b[0m\u001b[1;33m)\u001b[0m\u001b[1;33m\u001b[0m\u001b[1;33m\u001b[0m\u001b[0m\n\u001b[1;32m-> 1018\u001b[1;33m         \u001b[0mkey\u001b[0m \u001b[1;33m=\u001b[0m \u001b[0mcom\u001b[0m\u001b[1;33m.\u001b[0m\u001b[0mapply_if_callable\u001b[0m\u001b[1;33m(\u001b[0m\u001b[0mkey\u001b[0m\u001b[1;33m,\u001b[0m \u001b[0mself\u001b[0m\u001b[1;33m)\u001b[0m\u001b[1;33m\u001b[0m\u001b[1;33m\u001b[0m\u001b[0m\n\u001b[0m\u001b[0;32m   1019\u001b[0m \u001b[1;33m\u001b[0m\u001b[0m\n\u001b[0;32m   1020\u001b[0m         \u001b[1;32mif\u001b[0m \u001b[0mkey\u001b[0m \u001b[1;32mis\u001b[0m \u001b[0mEllipsis\u001b[0m\u001b[1;33m:\u001b[0m\u001b[1;33m\u001b[0m\u001b[1;33m\u001b[0m\u001b[0m\n\u001b[0;32m   1021\u001b[0m             \u001b[1;32mreturn\u001b[0m \u001b[0mself\u001b[0m\u001b[1;33m\u001b[0m\u001b[1;33m\u001b[0m\u001b[0m\n",
      "\u001b[1;32m~\\AppData\\Local\\Programs\\Python\\Python312\\Lib\\site-packages\\pandas\\core\\common.py\u001b[0m in \u001b[0;36m?\u001b[1;34m(maybe_callable, obj, **kwargs)\u001b[0m\n\u001b[0;32m    375\u001b[0m     \u001b[0mobj\u001b[0m \u001b[1;33m:\u001b[0m \u001b[0mNDFrame\u001b[0m\u001b[1;33m\u001b[0m\u001b[1;33m\u001b[0m\u001b[0m\n\u001b[0;32m    376\u001b[0m     \u001b[1;33m**\u001b[0m\u001b[0mkwargs\u001b[0m\u001b[1;33m\u001b[0m\u001b[1;33m\u001b[0m\u001b[0m\n\u001b[0;32m    377\u001b[0m     \"\"\"\n\u001b[0;32m    378\u001b[0m     \u001b[1;32mif\u001b[0m \u001b[0mcallable\u001b[0m\u001b[1;33m(\u001b[0m\u001b[0mmaybe_callable\u001b[0m\u001b[1;33m)\u001b[0m\u001b[1;33m:\u001b[0m\u001b[1;33m\u001b[0m\u001b[1;33m\u001b[0m\u001b[0m\n\u001b[1;32m--> 379\u001b[1;33m         \u001b[1;32mreturn\u001b[0m \u001b[0mmaybe_callable\u001b[0m\u001b[1;33m(\u001b[0m\u001b[0mobj\u001b[0m\u001b[1;33m,\u001b[0m \u001b[1;33m**\u001b[0m\u001b[0mkwargs\u001b[0m\u001b[1;33m)\u001b[0m\u001b[1;33m\u001b[0m\u001b[1;33m\u001b[0m\u001b[0m\n\u001b[0m\u001b[0;32m    380\u001b[0m \u001b[1;33m\u001b[0m\u001b[0m\n\u001b[0;32m    381\u001b[0m     \u001b[1;32mreturn\u001b[0m \u001b[0mmaybe_callable\u001b[0m\u001b[1;33m\u001b[0m\u001b[1;33m\u001b[0m\u001b[0m\n",
      "\u001b[1;32m~\\AppData\\Local\\Programs\\Python\\Python312\\Lib\\site-packages\\pandas\\core\\series.py\u001b[0m in \u001b[0;36m?\u001b[1;34m(self, axis, bool_only, skipna, **kwargs)\u001b[0m\n\u001b[0;32m   6162\u001b[0m         \u001b[1;33m**\u001b[0m\u001b[0mkwargs\u001b[0m\u001b[1;33m,\u001b[0m\u001b[1;33m\u001b[0m\u001b[1;33m\u001b[0m\u001b[0m\n\u001b[0;32m   6163\u001b[0m     \u001b[1;33m)\u001b[0m \u001b[1;33m->\u001b[0m \u001b[0mbool\u001b[0m\u001b[1;33m:\u001b[0m\u001b[1;33m\u001b[0m\u001b[1;33m\u001b[0m\u001b[0m\n\u001b[0;32m   6164\u001b[0m         \u001b[0mnv\u001b[0m\u001b[1;33m.\u001b[0m\u001b[0mvalidate_logical_func\u001b[0m\u001b[1;33m(\u001b[0m\u001b[1;33m(\u001b[0m\u001b[1;33m)\u001b[0m\u001b[1;33m,\u001b[0m \u001b[0mkwargs\u001b[0m\u001b[1;33m,\u001b[0m \u001b[0mfname\u001b[0m\u001b[1;33m=\u001b[0m\u001b[1;34m\"all\"\u001b[0m\u001b[1;33m)\u001b[0m\u001b[1;33m\u001b[0m\u001b[1;33m\u001b[0m\u001b[0m\n\u001b[0;32m   6165\u001b[0m         \u001b[0mvalidate_bool_kwarg\u001b[0m\u001b[1;33m(\u001b[0m\u001b[0mskipna\u001b[0m\u001b[1;33m,\u001b[0m \u001b[1;34m\"skipna\"\u001b[0m\u001b[1;33m,\u001b[0m \u001b[0mnone_allowed\u001b[0m\u001b[1;33m=\u001b[0m\u001b[1;32mFalse\u001b[0m\u001b[1;33m)\u001b[0m\u001b[1;33m\u001b[0m\u001b[1;33m\u001b[0m\u001b[0m\n\u001b[1;32m-> 6166\u001b[1;33m         return self._reduce(\n\u001b[0m\u001b[0;32m   6167\u001b[0m             \u001b[0mnanops\u001b[0m\u001b[1;33m.\u001b[0m\u001b[0mnanall\u001b[0m\u001b[1;33m,\u001b[0m\u001b[1;33m\u001b[0m\u001b[1;33m\u001b[0m\u001b[0m\n\u001b[0;32m   6168\u001b[0m             \u001b[0mname\u001b[0m\u001b[1;33m=\u001b[0m\u001b[1;34m\"all\"\u001b[0m\u001b[1;33m,\u001b[0m\u001b[1;33m\u001b[0m\u001b[1;33m\u001b[0m\u001b[0m\n\u001b[0;32m   6169\u001b[0m             \u001b[0maxis\u001b[0m\u001b[1;33m=\u001b[0m\u001b[0maxis\u001b[0m\u001b[1;33m,\u001b[0m\u001b[1;33m\u001b[0m\u001b[1;33m\u001b[0m\u001b[0m\n",
      "\u001b[1;32m~\\AppData\\Local\\Programs\\Python\\Python312\\Lib\\site-packages\\pandas\\core\\series.py\u001b[0m in \u001b[0;36m?\u001b[1;34m(self, op, name, axis, skipna, numeric_only, filter_type, **kwds)\u001b[0m\n\u001b[0;32m   6111\u001b[0m         \"\"\"\n\u001b[0;32m   6112\u001b[0m         \u001b[0mdelegate\u001b[0m \u001b[1;33m=\u001b[0m \u001b[0mself\u001b[0m\u001b[1;33m.\u001b[0m\u001b[0m_values\u001b[0m\u001b[1;33m\u001b[0m\u001b[1;33m\u001b[0m\u001b[0m\n\u001b[0;32m   6113\u001b[0m \u001b[1;33m\u001b[0m\u001b[0m\n\u001b[0;32m   6114\u001b[0m         \u001b[1;32mif\u001b[0m \u001b[0maxis\u001b[0m \u001b[1;32mis\u001b[0m \u001b[1;32mnot\u001b[0m \u001b[1;32mNone\u001b[0m\u001b[1;33m:\u001b[0m\u001b[1;33m\u001b[0m\u001b[1;33m\u001b[0m\u001b[0m\n\u001b[1;32m-> 6115\u001b[1;33m             \u001b[0mself\u001b[0m\u001b[1;33m.\u001b[0m\u001b[0m_get_axis_number\u001b[0m\u001b[1;33m(\u001b[0m\u001b[0maxis\u001b[0m\u001b[1;33m)\u001b[0m\u001b[1;33m\u001b[0m\u001b[1;33m\u001b[0m\u001b[0m\n\u001b[0m\u001b[0;32m   6116\u001b[0m \u001b[1;33m\u001b[0m\u001b[0m\n\u001b[0;32m   6117\u001b[0m         \u001b[1;32mif\u001b[0m \u001b[0misinstance\u001b[0m\u001b[1;33m(\u001b[0m\u001b[0mdelegate\u001b[0m\u001b[1;33m,\u001b[0m \u001b[0mExtensionArray\u001b[0m\u001b[1;33m)\u001b[0m\u001b[1;33m:\u001b[0m\u001b[1;33m\u001b[0m\u001b[1;33m\u001b[0m\u001b[0m\n\u001b[0;32m   6118\u001b[0m             \u001b[1;31m# dispatch to ExtensionArray interface\u001b[0m\u001b[1;33m\u001b[0m\u001b[1;33m\u001b[0m\u001b[0m\n",
      "\u001b[1;32m~\\AppData\\Local\\Programs\\Python\\Python312\\Lib\\site-packages\\pandas\\core\\generic.py\u001b[0m in \u001b[0;36m?\u001b[1;34m(cls, axis)\u001b[0m\n\u001b[0;32m    549\u001b[0m     \u001b[1;33m@\u001b[0m\u001b[0mclassmethod\u001b[0m\u001b[1;33m\u001b[0m\u001b[1;33m\u001b[0m\u001b[0m\n\u001b[0;32m    550\u001b[0m     \u001b[1;32mdef\u001b[0m \u001b[0m_get_axis_number\u001b[0m\u001b[1;33m(\u001b[0m\u001b[0mcls\u001b[0m\u001b[1;33m,\u001b[0m \u001b[0maxis\u001b[0m\u001b[1;33m:\u001b[0m \u001b[0mAxis\u001b[0m\u001b[1;33m)\u001b[0m \u001b[1;33m->\u001b[0m \u001b[0mAxisInt\u001b[0m\u001b[1;33m:\u001b[0m\u001b[1;33m\u001b[0m\u001b[1;33m\u001b[0m\u001b[0m\n\u001b[0;32m    551\u001b[0m         \u001b[1;32mtry\u001b[0m\u001b[1;33m:\u001b[0m\u001b[1;33m\u001b[0m\u001b[1;33m\u001b[0m\u001b[0m\n\u001b[0;32m    552\u001b[0m             \u001b[1;32mreturn\u001b[0m \u001b[0mcls\u001b[0m\u001b[1;33m.\u001b[0m\u001b[0m_AXIS_TO_AXIS_NUMBER\u001b[0m\u001b[1;33m[\u001b[0m\u001b[0maxis\u001b[0m\u001b[1;33m]\u001b[0m\u001b[1;33m\u001b[0m\u001b[1;33m\u001b[0m\u001b[0m\n\u001b[1;32m--> 553\u001b[1;33m         \u001b[1;32mexcept\u001b[0m \u001b[0mKeyError\u001b[0m\u001b[1;33m:\u001b[0m\u001b[1;33m\u001b[0m\u001b[1;33m\u001b[0m\u001b[0m\n\u001b[0m\u001b[0;32m    554\u001b[0m             \u001b[1;32mraise\u001b[0m \u001b[0mValueError\u001b[0m\u001b[1;33m(\u001b[0m\u001b[1;33mf\"\u001b[0m\u001b[1;33mNo axis named \u001b[0m\u001b[1;33m{\u001b[0m\u001b[0maxis\u001b[0m\u001b[1;33m}\u001b[0m\u001b[1;33m for object type \u001b[0m\u001b[1;33m{\u001b[0m\u001b[0mcls\u001b[0m\u001b[1;33m.\u001b[0m\u001b[0m__name__\u001b[0m\u001b[1;33m}\u001b[0m\u001b[1;33m\"\u001b[0m\u001b[1;33m)\u001b[0m\u001b[1;33m\u001b[0m\u001b[1;33m\u001b[0m\u001b[0m\n",
      "\u001b[1;31mTypeError\u001b[0m: unhashable type: 'Series'"
     ]
    }
   ],
   "source": [
    "# Detect outliers using statistical methods (e.g., z-score)\n",
    "from scipy import stats\n",
    "import numpy as np\n",
    "\n",
    "z_scores = np.abs(stats.zscore(bond_data_imputed))\n",
    "threshold = 3\n",
    "outliers = np.where(z_scores > threshold)\n",
    "\n",
    "# Remove outliers\n",
    "bond_data_cleaned = bond_data_imputed[(z_scores < threshold).all]\n",
    "bond_data_cleaned"
   ]
  },
  {
   "cell_type": "markdown",
   "id": "ead4e888-485c-4bdc-be68-a29bfb61bb30",
   "metadata": {},
   "source": [
    "##### Handling Inconsistencies"
   ]
  },
  {
   "cell_type": "code",
   "execution_count": null,
   "id": "08474224-d2aa-408d-9ce7-819a9f2f0dfc",
   "metadata": {},
   "outputs": [],
   "source": []
  },
  {
   "cell_type": "code",
   "execution_count": null,
   "id": "24f06801-198a-41f0-b28a-ccfc629cb10f",
   "metadata": {},
   "outputs": [],
   "source": []
  },
  {
   "cell_type": "code",
   "execution_count": null,
   "id": "a624fa8c-d1af-4219-9a28-01697f5ec348",
   "metadata": {},
   "outputs": [],
   "source": []
  },
  {
   "cell_type": "markdown",
   "id": "8e634c1f-e5e8-4032-9118-a0b803edd91e",
   "metadata": {},
   "source": [
    "##### **Quantitative Analysis**\n",
    "    - Statistical analysis: Explore descriptive statistics of bond data\n",
    "    - Time series analysis: Analyze trends, seasonality, and volatility\n",
    "    - Correlation analysis: Examine relationships between different bond variables\n",
    "    - Risk assessment: Calculate risk metrics such as volatility, beta, and Sharpe ratio\n",
    "    - Performance evaluation: Assess the performance of conservative investment strategies using historical bond data"
   ]
  },
  {
   "cell_type": "code",
   "execution_count": null,
   "id": "2de5f627-aa45-42ab-be6c-5d2c27dcd569",
   "metadata": {},
   "outputs": [],
   "source": []
  },
  {
   "cell_type": "markdown",
   "id": "b0d99aef-65ec-4755-9f15-8d8bdf086d5f",
   "metadata": {},
   "source": [
    "##### **Visualization**\n",
    "    - Generate visualizations to illustrate key findings from the analysis\n",
    "    - Plot time series charts, histograms, scatter plots, and heatmaps\n",
    "    - Use interactive plots for better exploration of data"
   ]
  },
  {
   "cell_type": "code",
   "execution_count": null,
   "id": "64f66559-cec1-429f-97a9-7d443735f1cf",
   "metadata": {},
   "outputs": [],
   "source": []
  },
  {
   "cell_type": "markdown",
   "id": "4916d007-e95b-4430-ab6c-f9adeba0580c",
   "metadata": {},
   "source": [
    "##### **Conclusion**\n",
    "    - Summarize the findings and insights gained from the analysis\n",
    "    - Discuss the effectiveness of conservative investment strategies in bond markets\n",
    "    - Provide recommendations for further research or investment decisions"
   ]
  },
  {
   "cell_type": "code",
   "execution_count": null,
   "id": "c0d9713e-dad9-4646-8fef-1971c5e0082a",
   "metadata": {},
   "outputs": [],
   "source": []
  }
 ],
 "metadata": {
  "kernelspec": {
   "display_name": "Python 3 (ipykernel)",
   "language": "python",
   "name": "python3"
  },
  "language_info": {
   "codemirror_mode": {
    "name": "ipython",
    "version": 3
   },
   "file_extension": ".py",
   "mimetype": "text/x-python",
   "name": "python",
   "nbconvert_exporter": "python",
   "pygments_lexer": "ipython3",
   "version": "3.12.1"
  }
 },
 "nbformat": 4,
 "nbformat_minor": 5
}
