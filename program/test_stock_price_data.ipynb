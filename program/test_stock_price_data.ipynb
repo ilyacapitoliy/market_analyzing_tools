{
 "cells": [
  {
   "cell_type": "code",
   "execution_count": null,
   "metadata": {},
   "outputs": [],
   "source": [
    "!pip3 install yfinance"
   ]
  },
  {
   "cell_type": "code",
   "execution_count": 9,
   "metadata": {},
   "outputs": [
    {
     "name": "stdout",
     "output_type": "stream",
     "text": [
      "                  Open        High         Low       Close   Adj Close  \\\n",
      "Date                                                                     \n",
      "2022-02-24  227.619995  264.790009  227.479996  263.380005  263.380005   \n",
      "2022-02-25  224.490005  228.000000  206.000000  221.850006  221.850006   \n",
      "2022-02-28  228.419998  244.947006  227.160004  239.149994  239.149994   \n",
      "2022-03-01  245.100006  260.865997  241.309998  247.830002  247.830002   \n",
      "2022-03-02  253.259995  257.540009  242.110001  254.410004  254.410004   \n",
      "\n",
      "              Volume  \n",
      "Date                  \n",
      "2022-02-24   6517500  \n",
      "2022-02-25  12093100  \n",
      "2022-02-28   6713600  \n",
      "2022-03-01   5707900  \n",
      "2022-03-02   2968400  \n"
     ]
    }
   ],
   "source": [
    "import pandas as pd\n",
    "import yfinance as yf\n",
    "import datetime\n",
    "from datetime import date, timedelta\n",
    "today = date.today()\n",
    "\n",
    "d1 = today.strftime(\"%Y-%m-%d\")\n",
    "end_date = d1\n",
    "d2 = date.today() - timedelta(days=360)\n",
    "d2 = d2.strftime(\"%Y-%m-%d\")\n",
    "start_date = d2\n",
    "\n",
    "data = yf.download('ZS',\n",
    "                    start = start_date,\n",
    "                    end = end_date,\n",
    "                    progress = False)\n",
    "\n",
    "print(data.head())\n"
   ]
  },
  {
   "cell_type": "code",
   "execution_count": 10,
   "metadata": {},
   "outputs": [
    {
     "name": "stdout",
     "output_type": "stream",
     "text": [
      "        Date        Open        High         Low       Close   Adj Close  \\\n",
      "0 2022-02-24  227.619995  264.790009  227.479996  263.380005  263.380005   \n",
      "1 2022-02-25  224.490005  228.000000  206.000000  221.850006  221.850006   \n",
      "2 2022-02-28  228.419998  244.947006  227.160004  239.149994  239.149994   \n",
      "3 2022-03-01  245.100006  260.865997  241.309998  247.830002  247.830002   \n",
      "4 2022-03-02  253.259995  257.540009  242.110001  254.410004  254.410004   \n",
      "\n",
      "     Volume  \n",
      "0   6517500  \n",
      "1  12093100  \n",
      "2   6713600  \n",
      "3   5707900  \n",
      "4   2968400  \n"
     ]
    }
   ],
   "source": [
    "data[\"Date\"] = data.index\n",
    "data = data[[\"Date\",\"Open\",\"High\",\"Low\",\"Close\",\"Adj Close\",\"Volume\"]]\n",
    "data.reset_index(drop=True, inplace=True)\n",
    "print(data.head())"
   ]
  },
  {
   "cell_type": "code",
   "execution_count": null,
   "metadata": {},
   "outputs": [],
   "source": []
  }
 ],
 "metadata": {
  "kernelspec": {
   "display_name": "base",
   "language": "python",
   "name": "python3"
  },
  "language_info": {
   "codemirror_mode": {
    "name": "ipython",
    "version": 3
   },
   "file_extension": ".py",
   "mimetype": "text/x-python",
   "name": "python",
   "nbconvert_exporter": "python",
   "pygments_lexer": "ipython3",
   "version": "3.9.12"
  },
  "orig_nbformat": 4,
  "vscode": {
   "interpreter": {
    "hash": "6f5583cf1d9466b5c27e75c89cc6b383bed5736d6b16c51c8074d8690011a952"
   }
  }
 },
 "nbformat": 4,
 "nbformat_minor": 2
}
